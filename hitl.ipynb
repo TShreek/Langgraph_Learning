{
 "cells": [
  {
   "cell_type": "code",
   "execution_count": null,
   "id": "2f5e635b",
   "metadata": {},
   "outputs": [],
   "source": [
    "from dotenv import load_dotenv\n",
    "load_dotenv\n",
    "\n",
    "from typing_extensions import TypedDict, Annotated\n",
    "from langchain_core.tools import tool\n",
    "from langchain_groq import ChatGroq\n",
    "from langgraph.prebuilt import tool_node, tools_condition\n",
    "from langgraph.graph.message import add_messages\n",
    "from langgraph.checkpoint.memory import MemorySaver"
   ]
  },
  {
   "cell_type": "code",
   "execution_count": null,
   "id": "70c6fe96",
   "metadata": {},
   "outputs": [],
   "source": [
    "class State:\n",
    "    messages : Annotated[list, add_messages]"
   ]
  }
 ],
 "metadata": {
  "language_info": {
   "name": "python"
  }
 },
 "nbformat": 4,
 "nbformat_minor": 5
}
