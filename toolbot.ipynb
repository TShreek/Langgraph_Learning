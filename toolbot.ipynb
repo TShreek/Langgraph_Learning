{
 "cells": [
  {
   "cell_type": "code",
   "execution_count": 18,
   "id": "8cb4a18a",
   "metadata": {},
   "outputs": [],
   "source": [
    "from typing import TypedDict, Annotated\n",
    "from langchain_groq import ChatGroq\n",
    "from langgraph.graph import StateGraph, START, END\n",
    "from langgraph.graph.message import add_messages\n",
    "\n",
    "from langgraph.prebuilt import ToolNode, tools_condition\n",
    "from langchain_core import tools"
   ]
  },
  {
   "cell_type": "code",
   "execution_count": 4,
   "id": "379c00ba",
   "metadata": {},
   "outputs": [],
   "source": [
    "from dotenv import load_dotenv\n",
    "import os\n",
    "load_dotenv\n",
    "groq_api_key : str = os.environ.get(\"GROQ_API_KEY\")"
   ]
  },
  {
   "cell_type": "code",
   "execution_count": 3,
   "id": "e6d369bc",
   "metadata": {},
   "outputs": [],
   "source": [
    "class State(TypedDict):\n",
    "    messages : Annotated[list, add_messages]"
   ]
  },
  {
   "cell_type": "code",
   "execution_count": 9,
   "id": "6d3600d4",
   "metadata": {},
   "outputs": [],
   "source": [
    "llm = ChatGroq(\n",
    "    groq_api_key = groq_api_key,\n",
    "    model=\"deepseek-r1-distill-llama-70b\"\n",
    ")\n",
    "\n",
    "#response = llm.invoke(\"what can you do for me\")\n",
    "#print(response.content)"
   ]
  },
  {
   "cell_type": "code",
   "execution_count": null,
   "id": "b8b10d5f",
   "metadata": {},
   "outputs": [],
   "source": [
    "# Tool 1: Get stock price\n",
    "def get_stock_price(symbol: str) -> float:\n",
    "    return {\n",
    "        \"AAPL\": 175.32,\n",
    "        \"GOOGL\": 2850.45,\n",
    "        \"AMZN\": 143.67,\n",
    "        \"MSFT\": 330.12,\n",
    "        \"TSLA\": 255.78,\n",
    "        \"META\": 312.56,\n",
    "        \"NFLX\": 410.23,\n",
    "        \"NVDA\": 480.99,\n",
    "        \"IBM\": 135.67,\n",
    "        \"ORCL\": 123.45\n",
    "    }.get(symbol.upper(), 0.0)\n",
    "\n",
    "# Tool 2: Convert currency\n",
    "def convert_currency(amount: float, from_currency: str, to_currency: str) -> float:\n",
    "    exchange_rates = {\n",
    "        (\"USD\", \"EUR\"): 0.85,\n",
    "        (\"EUR\", \"USD\"): 1.18,\n",
    "        (\"USD\", \"GBP\"): 0.75,\n",
    "        (\"GBP\", \"USD\"): 1.33,\n",
    "    }\n",
    "    return amount * exchange_rates.get((from_currency.upper(), to_currency.upper()), 1.0)\n",
    "\n",
    "# Tool 3: Get weather information\n",
    "def get_weather(city: str) -> str:\n",
    "    weather_data = {\n",
    "        \"New York\": \"Sunny, 25°C\",\n",
    "        \"London\": \"Cloudy, 18°C\",\n",
    "        \"Paris\": \"Rainy, 20°C\",\n",
    "        \"Tokyo\": \"Clear, 30°C\",\n",
    "    }\n",
    "    return weather_data.get(city, \"Weather data not available\")\n",
    "\n",
    "# Tool 4: Calculate factorial\n",
    "def calculate_factorial(n: int) -> int:\n",
    "    if n == 0:\n",
    "        return 1\n",
    "    factorial = 1\n",
    "    for i in range(1, n + 1):\n",
    "        factorial *= i\n",
    "    return factorial\n",
    "\n",
    "# Define the tools list\n",
    "tools = [get_stock_price, convert_currency, get_weather, calculate_factorial]"
   ]
  }
 ],
 "metadata": {
  "kernelspec": {
   "display_name": ".venv",
   "language": "python",
   "name": "python3"
  },
  "language_info": {
   "codemirror_mode": {
    "name": "ipython",
    "version": 3
   },
   "file_extension": ".py",
   "mimetype": "text/x-python",
   "name": "python",
   "nbconvert_exporter": "python",
   "pygments_lexer": "ipython3",
   "version": "3.13.1"
  }
 },
 "nbformat": 4,
 "nbformat_minor": 5
}
