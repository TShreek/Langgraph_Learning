{
 "cells": [
  {
   "cell_type": "code",
   "execution_count": null,
   "id": "8cb4a18a",
   "metadata": {},
   "outputs": [],
   "source": [
    "from typing import TypedDict, Annotated\n",
    "from langchain_groq import ChatGroq\n",
    "from langgraph.graph import StateGraph, START, END\n",
    "from langgraph.graph.message import add_messages\n",
    "\n",
    "from langgraph.prebuilt import ToolNode, tools_condition\n",
    "from langchain_core.tools import tool\n",
    "#from langchain_community.tools import searc"
   ]
  },
  {
   "cell_type": "code",
   "execution_count": 13,
   "id": "379c00ba",
   "metadata": {},
   "outputs": [],
   "source": [
    "from dotenv import load_dotenv\n",
    "import os\n",
    "load_dotenv\n",
    "groq_api_key : str = os.environ.get(\"GROQ_API_KEY\")"
   ]
  },
  {
   "cell_type": "code",
   "execution_count": 15,
   "id": "e6d369bc",
   "metadata": {},
   "outputs": [],
   "source": [
    "class State(TypedDict):\n",
    "    messages : Annotated[list, add_messages]"
   ]
  },
  {
   "cell_type": "code",
   "execution_count": 16,
   "id": "6d3600d4",
   "metadata": {},
   "outputs": [],
   "source": [
    "llm = ChatGroq(\n",
    "    groq_api_key = groq_api_key,\n",
    "    model=\"deepseek-r1-distill-llama-70b\"\n",
    ")\n",
    "\n",
    "#response = llm.invoke(\"what can you do for me\")\n",
    "#print(response.content)"
   ]
  },
  {
   "cell_type": "code",
   "execution_count": 17,
   "id": "b8b10d5f",
   "metadata": {},
   "outputs": [],
   "source": [
    "# Tool 1: Get stock price\n",
    "@tool\n",
    "def get_stock_price(symbol: str) -> float:\n",
    "    ''' \n",
    "    Return the current price of a stock symbol.\n",
    "    :param symbol: Stock symbol (e.g., \"AAPL\", \"GOOGL\").\n",
    "    :return: Current price of the stock as a float.\n",
    "    '''\n",
    "    return {\n",
    "        \"AAPL\": 175.32,\n",
    "        \"GOOGL\": 2850.45,\n",
    "        \"AMZN\": 143.67,\n",
    "        \"MSFT\": 330.12,\n",
    "        \"TSLA\": 255.78,\n",
    "        \"META\": 312.56,\n",
    "        \"NFLX\": 410.23,\n",
    "        \"NVDA\": 480.99,\n",
    "        \"IBM\": 135.67,\n",
    "        \"ORCL\": 123.45\n",
    "    }.get(symbol.upper(), 0.0)\n",
    "\n",
    "# Tool 2: Convert currency\n",
    "@tool\n",
    "def convert_currency(amount: float, from_currency: str, to_currency: str) -> float:\n",
    "    ''' \n",
    "    Convert an amount from one currency to another.\n",
    "    :param amount: The amount to convert.\n",
    "    :param from_currency: The currency to convert from (e.g., \"USD\").\n",
    "    :param to_currency: The currency to convert to (e.g., \"EUR\").\n",
    "    :return: The converted amount as a float.\n",
    "    '''\n",
    "    exchange_rates = {\n",
    "        (\"USD\", \"EUR\"): 0.85,\n",
    "        (\"EUR\", \"USD\"): 1.18,\n",
    "        (\"USD\", \"GBP\"): 0.75,\n",
    "        (\"GBP\", \"USD\"): 1.33,\n",
    "    }\n",
    "    return amount * exchange_rates.get((from_currency.upper(), to_currency.upper()), 1.0)\n",
    "\n",
    "# Tool 3: Get weather information\n",
    "@tool\n",
    "def get_weather(city: str) -> str:\n",
    "    ''' \n",
    "    Get the current weather information for a city.\n",
    "    :param city: The name of the city (e.g., \"New York\").\n",
    "    :return: A string describing the weather (e.g., \"Sunny, 25°C\").\n",
    "    '''\n",
    "    weather_data = {\n",
    "        \"New York\": \"Sunny, 25°C\",\n",
    "        \"London\": \"Cloudy, 18°C\",\n",
    "        \"Paris\": \"Rainy, 20°C\",\n",
    "        \"Tokyo\": \"Clear, 30°C\",\n",
    "    }\n",
    "    return weather_data.get(city, \"Weather data not available\")\n",
    "\n",
    "# Tool 4: Calculate factorial\n",
    "@tool\n",
    "def calculate_factorial(n: int) -> int:\n",
    "    ''' \n",
    "    Calculate the factorial of a number.\n",
    "    :param n: The number to calculate the factorial for.\n",
    "    :return: The factorial of the number as an integer.\n",
    "    '''\n",
    "    if n == 0:\n",
    "        return 1\n",
    "    factorial = 1\n",
    "    for i in range(1, n + 1):\n",
    "        factorial *= i\n",
    "    return factorial\n",
    "\n",
    "# Define the tools list\n",
    "tools = [get_stock_price, convert_currency, get_weather, calculate_factorial]"
   ]
  },
  {
   "cell_type": "code",
   "execution_count": null,
   "id": "e3d73156",
   "metadata": {},
   "outputs": [],
   "source": [
    "llmtools = llm.bind_tools(tools)"
   ]
  },
  {
   "cell_type": "code",
   "execution_count": null,
   "id": "30691f6f",
   "metadata": {},
   "outputs": [],
   "source": [
    "def chatbot(state: State) -> State:\n",
    "    return {\"messages\": llmtools.invoke(state[\"messages\"])}\n",
    "\n",
    "builder = StateGraph(State)\n",
    "\n",
    "builder.add_node(chatbot)\n",
    "builder.add_node(\"tools\",ToolNode(tools))\n",
    "builder.add_conditional_edges(chatbot,tools_condition)\n",
    "builder.add_edge(START, chatbot)\n",
    "\n",
    "builder.add_edge(chatbot, END)"
   ]
  }
 ],
 "metadata": {
  "kernelspec": {
   "display_name": ".venv",
   "language": "python",
   "name": "python3"
  },
  "language_info": {
   "codemirror_mode": {
    "name": "ipython",
    "version": 3
   },
   "file_extension": ".py",
   "mimetype": "text/x-python",
   "name": "python",
   "nbconvert_exporter": "python",
   "pygments_lexer": "ipython3",
   "version": "3.13.1"
  }
 },
 "nbformat": 4,
 "nbformat_minor": 5
}
