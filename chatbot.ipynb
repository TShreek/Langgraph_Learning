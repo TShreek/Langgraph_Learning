{
 "cells": [
  {
   "cell_type": "code",
   "id": "initial_id",
   "metadata": {
    "collapsed": true,
    "ExecuteTime": {
     "end_time": "2025-09-04T15:49:11.376718Z",
     "start_time": "2025-09-04T15:49:10.782306Z"
    }
   },
   "source": [
    "from dotenv import load_dotenv\n",
    "import os\n",
    "\n",
    "load_dotenv()\n",
    "groq_Api_Key = os.environ.get(\"GROQ_API_KEY\")\n",
    "\n",
    "from langchain_groq import ChatGroq\n",
    "\n",
    "llm = ChatGroq(\n",
    "    groq_api_key= groq_Api_Key,\n",
    "               model=\"openai/gpt-oss-20b\")\n",
    "\n",
    "llm.invoke(\"SAY HEY IN SANSKRIT\")\n"
   ],
   "outputs": [
    {
     "data": {
      "text/plain": [
       "AIMessage(content='**है** (हे) – pronounced “he”\\n\\nIn Sanskrit, the interjection *हे* (he) is used just like “hey” in English to get someone’s attention or to greet informally. It’s the simplest, most direct equivalent.', additional_kwargs={'reasoning_content': 'The user says: \"SAY HEY IN SANSKRIT\". They want a translation of \"Hey\" into Sanskrit. Or maybe they want to say \"Hey\" in Sanskrit. \"Hey\" could be \"हैलो\" but in Sanskrit, a casual greeting might be \"नमः\" or \"नमस्ते\". \"Hey\" might be \"हे\" or \"हे\" is used as an interjection. In Sanskrit, \"Hey\" can be \"हे\" (he). But we need to respond appropriately. The user wants \"SAY HEY IN SANSKRIT\". So we should provide the Sanskrit word for \"Hey\". Provide the transliteration and maybe the Devanagari script. Also maybe mention usage. The user might just want a direct translation. So answer: \"हे\" (he). Or \"नमः\" or \"नमस्ते\". The simplest: \"हे\". So respond with that. Also mention it\\'s used as an interjection. Provide transliteration.'}, response_metadata={'token_usage': {'completion_tokens': 270, 'prompt_tokens': 80, 'total_tokens': 350, 'completion_time': 0.248950184, 'prompt_time': 0.008887698, 'queue_time': 0.078110402, 'total_time': 0.257837882}, 'model_name': 'openai/gpt-oss-20b', 'system_fingerprint': 'fp_fd68d84dd3', 'service_tier': 'on_demand', 'finish_reason': 'stop', 'logprobs': None}, id='run--c20f746d-18e2-43dd-b0a0-b21e4914f07f-0', usage_metadata={'input_tokens': 80, 'output_tokens': 270, 'total_tokens': 350})"
      ]
     },
     "execution_count": 14,
     "metadata": {},
     "output_type": "execute_result"
    }
   ],
   "execution_count": 14
  }
 ],
 "metadata": {
  "kernelspec": {
   "display_name": "Python 3",
   "language": "python",
   "name": "python3"
  },
  "language_info": {
   "codemirror_mode": {
    "name": "ipython",
    "version": 2
   },
   "file_extension": ".py",
   "mimetype": "text/x-python",
   "name": "python",
   "nbconvert_exporter": "python",
   "pygments_lexer": "ipython2",
   "version": "2.7.6"
  }
 },
 "nbformat": 4,
 "nbformat_minor": 5
}
