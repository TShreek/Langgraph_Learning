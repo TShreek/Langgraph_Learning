{
 "cells": [
  {
   "cell_type": "code",
   "execution_count": null,
   "id": "aef0af2c1737e451",
   "metadata": {
    "ExecuteTime": {
     "end_time": "2025-09-04T16:06:41.212328Z",
     "start_time": "2025-09-04T16:06:41.062952Z"
    }
   },
   "outputs": [],
   "source": [
    "from typing_extensions import TypedDict, Annotated\n",
    "from langgraph.graph import StateGraph, START, END\n",
    "from langgraph.graph.message import add_messages\n",
    "\n",
    "from dotenv import load_dotenv\n",
    "import os\n",
    "load_dotenv()\n",
    "groq_Api_Key = os.environ.get(\"GROQ_API_KEY\")"
   ]
  },
  {
   "cell_type": "code",
   "execution_count": null,
   "id": "initial_id",
   "metadata": {
    "ExecuteTime": {
     "end_time": "2025-09-04T16:17:07.915488Z",
     "start_time": "2025-09-04T16:17:07.781749Z"
    },
    "collapsed": true
   },
   "outputs": [
    {
     "name": "stdout",
     "output_type": "stream",
     "text": [
      "Input State: {'messages': ['What is your name?']}\n",
      "Graph Output: content='I’m ChatGPT, your AI assistant. How can I help you today?' additional_kwargs={'reasoning_content': 'The user asks \"What is your name?\" The assistant should respond politely, maybe say \"I\\'m ChatGPT, your AI assistant.\" Also mention name is ChatGPT. Let\\'s comply.'} response_metadata={'token_usage': {'completion_tokens': 62, 'prompt_tokens': 76, 'total_tokens': 138, 'completion_time': 0.055341064, 'prompt_time': 0.004972552, 'queue_time': 0.045377628, 'total_time': 0.060313616}, 'model_name': 'openai/gpt-oss-20b', 'system_fingerprint': 'fp_af4b447bfc', 'service_tier': 'on_demand', 'finish_reason': 'stop', 'logprobs': None} id='run--edebff93-9937-48d7-9656-24ab3f937b14-0' usage_metadata={'input_tokens': 76, 'output_tokens': 62, 'total_tokens': 138}\n",
      "Graph Output: content='I’m ChatGPT, your AI assistant. How can I help you today?' additional_kwargs={'reasoning_content': 'The user asks \"What is your name?\" The assistant should respond politely, maybe say \"I\\'m ChatGPT, your AI assistant.\" Also mention name is ChatGPT. Let\\'s comply.'} response_metadata={'token_usage': {'completion_tokens': 62, 'prompt_tokens': 76, 'total_tokens': 138, 'completion_time': 0.055341064, 'prompt_time': 0.004972552, 'queue_time': 0.045377628, 'total_time': 0.060313616}, 'model_name': 'openai/gpt-oss-20b', 'system_fingerprint': 'fp_af4b447bfc', 'service_tier': 'on_demand', 'finish_reason': 'stop', 'logprobs': None} id='run--edebff93-9937-48d7-9656-24ab3f937b14-0' usage_metadata={'input_tokens': 76, 'output_tokens': 62, 'total_tokens': 138}\n"
     ]
    }
   ],
   "source": [
    "from langchain_groq import ChatGroq\n",
    "\n",
    "# Debugging: Check if the API key is loaded correctly\n",
    "if not groq_Api_Key:\n",
    "    raise ValueError(\"GROQ_API_KEY is not set. Please check your .env file.\")\n",
    "\n",
    "llm = ChatGroq(\n",
    "    groq_api_key=groq_Api_Key,\n",
    "    model=\"openai/gpt-oss-20b\"\n",
    ")\n",
    "\n",
    "prompt = \"What is your name?\"\n",
    "\n",
    "class State(TypedDict):\n",
    "    messages: Annotated[list, add_messages]\n",
    "\n",
    "def chatbot(State: State) -> State:\n",
    "    print(\"Input Prompt (State):\", State)\n",
    "    response = llm.invoke(State[\"messages\"])\n",
    "    # print(\"LLM Response:\", response)\n",
    "    return {\"messages\": response}\n",
    "\n",
    "builder = StateGraph(State)\n",
    "\n",
    "builder.add_node(\"chatBotNode\", chatbot)\n",
    "\n",
    "builder.add_edge(START, \"chatBotNode\")\n",
    "builder.add_edge(\"chatBotNode\", END)\n",
    "\n",
    "# Debugging: Compile the graph and log any issues\n",
    "try:\n",
    "    graph = builder.compile()\n",
    "except Exception as e:\n",
    "    raise RuntimeError(\"Error compiling the graph:\", e)\n",
    "\n",
    "# Debugging: Invoke the graph and log the output\n",
    "try:\n",
    "    output = graph.invoke({\"messages\": [prompt]})\n",
    "    print(\"Graph Output:\", output[\"messages\"])\n",
    "except Exception as e:\n",
    "    raise RuntimeError(\"Error invoking the graph:\", e)"
   ]
  },
  {
   "cell_type": "code",
   "execution_count": null,
   "id": "217b016a",
   "metadata": {},
   "outputs": [],
   "source": [
    "state = None\n",
    "while(True):\n",
    "    try:\n",
    "        in_message = input(\"User : \")\n",
    "        if in_message.lower() in {\"quit\",\"exit\"}:\n",
    "            break\n",
    "        if state is None:\n",
    "            state = {\"messages\" : in_message}\n",
    "        else:\n",
    "            state[\"messages\"].append(in_message)\n",
    "    \n",
    "        graph.invoke(state)\n",
    "        print(\"bot : \" + state[\"messages\"][-1].content)\n",
    "    except Exception as e:\n",
    "        print(f\" an error occured : {e}\")\n",
    "        break\n",
    "    "
   ]
  }
 ],
 "metadata": {
  "kernelspec": {
   "display_name": ".venv",
   "language": "python",
   "name": "python3"
  },
  "language_info": {
   "codemirror_mode": {
    "name": "ipython",
    "version": 3
   },
   "file_extension": ".py",
   "mimetype": "text/x-python",
   "name": "python",
   "nbconvert_exporter": "python",
   "pygments_lexer": "ipython3",
   "version": "3.13.1"
  }
 },
 "nbformat": 4,
 "nbformat_minor": 5
}
